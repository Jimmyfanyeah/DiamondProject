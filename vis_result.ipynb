{
 "cells": [
  {
   "cell_type": "code",
   "execution_count": null,
   "metadata": {},
   "outputs": [],
   "source": [
    "import csv\n",
    "import numpy as np\n",
    "from shutil import copy2\n",
    "import os"
   ]
  },
  {
   "cell_type": "code",
   "execution_count": 17,
   "metadata": {},
   "outputs": [
    {
     "name": "stdout",
     "output_type": "stream",
     "text": [
      "['10363313859_76.png', 'Twinning_wisp', 3, 4, 'Cloud', 0]\n"
     ]
    }
   ],
   "source": [
    "# Load result from csv\n",
    "\n",
    "# Parameters\n",
    "class_list = ['Cloud','Crystal','Feather','Twinning_wisp']\n",
    "csv_path = '/media/hdd/lingjia/hdd_diamond/cls/result/2022-11-04-16-18-18_resnet101_resize_plain.csv'\n",
    "\n",
    "\n",
    "class_list_v0 = ['Cloud', 'Crystal', 'Feather', 'Needle', 'Twinning_wisp']\n",
    "\n",
    "with open(csv_path, newline='') as f:\n",
    "    reader = csv.reader(f)\n",
    "    infer_result = list(reader)\n",
    "\n",
    "img_dict = {}\n",
    "for l in infer_result[1:]:\n",
    "    img_name = l[0]\n",
    "    gt_cls = l[1]\n",
    "    # gt_idx = int(l[2])\n",
    "    gt_idx = class_list.index(gt_cls)\n",
    "    gt_idx_v0 = class_list_v0.index(gt_cls)\n",
    "    pred_idx = l[3:].index(max(l[3:]))\n",
    "    pred_cls = class_list[pred_idx]\n",
    "    img_dict[img_name] = [img_name, gt_cls, gt_idx, gt_idx_v0, pred_cls, pred_idx]\n",
    "print(img_dict[img_name])\n",
    "\n"
   ]
  },
  {
   "cell_type": "code",
   "execution_count": 2,
   "metadata": {},
   "outputs": [],
   "source": [
    "\"\"\" VIS1: Save to GT_Pred Folders \"\"\"\n",
    "# Parameter\n",
    "data_path = '/media/hdd/lingjia/hdd_diamond/cls/data/cls5/exp1/test'\n",
    "save_path = '/media/hdd/lingjia/hdd_diamond/cls/weightedsampler_resnet101_1vsall/patch_vis'\n",
    "\n",
    "\n",
    "for key in img_dict.keys():\n",
    "    temp_from = os.path.join(data_path,img_dict[key][1],key)\n",
    "    temp_to = os.path.join(save_path, img_dict[key][1]+'_'+img_dict[key][3])\n",
    "    os.makedirs(temp_to,exist_ok=True)\n",
    "    copy2(temp_from, os.path.join(temp_to,key))\n"
   ]
  },
  {
   "cell_type": "code",
   "execution_count": 18,
   "metadata": {},
   "outputs": [
    {
     "name": "stdout",
     "output_type": "stream",
     "text": [
      "v1:\n",
      "[[ 810.  481.   31.   16.]\n",
      " [ 236. 1384.   22.  179.]\n",
      " [  37.   77.   20.    4.]\n",
      " [   0.    0.    0.    0.]\n",
      " [ 119.   52.    3.   10.]]\n",
      "v2:\n",
      "[[ 810.  481.   31.   16.]\n",
      " [ 236. 1384.   22.  179.]\n",
      " [  37.   77.   20.    4.]\n",
      " [ 119.   52.    3.   10.]]\n",
      "Cloud 810/1338=60.54%\n",
      "Crystal 1384/1821=76.00%\n",
      "Feather 20/138=14.49%\n",
      "Twinning_wisp 10/184=5.43%\n"
     ]
    },
    {
     "data": {
      "text/plain": [
       "'\\nval:\\n[[1420.  402.]\\n [ 381. 1336.]]\\nCrystal 77.94%\\nother 77.81%\\n\\ntest:\\n[[1422.  400.]\\n [ 387. 1330.]]\\nCrystal 78.05%\\nother 77.46%\\n'"
      ]
     },
     "execution_count": 18,
     "metadata": {},
     "output_type": "execute_result"
    }
   ],
   "source": [
    "\"\"\" Confusion Matrix \"\"\"\n",
    "np.set_printoptions(suppress=True)\n",
    "\n",
    "# show all gt class\n",
    "C = np.zeros((len(class_list_v0),len(class_list)))\n",
    "for key in img_dict.keys():\n",
    "    row = img_dict[key][3]\n",
    "    col = img_dict[key][5]\n",
    "    C[row,col] += 1\n",
    "\n",
    "print(f'v1:\\n{C}')\n",
    "\n",
    "C = np.zeros((len(class_list),len(class_list)))\n",
    "for key in img_dict.keys():\n",
    "    row = img_dict[key][2]\n",
    "    col = img_dict[key][5]\n",
    "    C[row,col] += 1\n",
    "\n",
    "print(f'v2:\\n{C}')\n",
    "\n",
    "\n",
    "\"\"\" Accuracy \"\"\"\n",
    "for row in range(C.shape[0]):\n",
    "    acc = C[row,row]/np.sum(C[row,:])\n",
    "    print(f'{class_list[row]} {int(C[row,row])}/{int(np.sum(C[row,:]))}={acc*100:.2f}%')\n",
    "    \n",
    "\n",
    "\"\"\"\n",
    "val:\n",
    "[[1420.  402.]\n",
    " [ 381. 1336.]]\n",
    "Crystal 77.94%\n",
    "other 77.81%\n",
    "\n",
    "test:\n",
    "[[1422.  400.]\n",
    " [ 387. 1330.]]\n",
    "Crystal 78.05%\n",
    "other 77.46%\n",
    "\"\"\""
   ]
  },
  {
   "cell_type": "code",
   "execution_count": 6,
   "metadata": {},
   "outputs": [],
   "source": [
    "\"\"\" VIS2 show on 1 complete diamond image \"\"\"\n",
    "# Parameters\n",
    "txt_path = '/media/hdd/lingjia/hdd_diamond/cls/data/plain_v3/txt_file'\n",
    "img_path = '/media/hdd/diamond/data/imgs'\n",
    "vis_save_path = '/media/hdd/lingjia/hdd_diamond/cls/weightedsampler_resnet101_1vsall/vis/Twinning_wisp'\n",
    "os.makedirs(vis_save_path,exist_ok=True)\n",
    "\n",
    "# Start\n",
    "from collections import defaultdict\n",
    "import cv2\n",
    "font = cv2.FONT_HERSHEY_SIMPLEX\n",
    "from  matplotlib import pyplot as plt\n",
    "\n",
    "# diamond IDs\n",
    "diamond_ids = defaultdict(list)\n",
    "for key in img_dict.keys():\n",
    "    diamond_ids[key[:11]].append(img_dict[key])\n",
    "\n",
    "# diamond_id = '10381382349'\n",
    "# print(diamond_ids[diamond_id])\n",
    "for diamond_id in diamond_ids.keys():\n",
    "    if '10377900198' in diamond_id or '10377322674' in diamond_id:\n",
    "        continue\n",
    "\n",
    "    with open(os.path.join(txt_path,diamond_id+'.txt')) as f:\n",
    "        txt_file = f.readlines()\n",
    "    txt_dict = {}\n",
    "    for t in txt_file:\n",
    "        pname = t.split(' ')[0]\n",
    "        pcls = t.split(' ')[2]\n",
    "        coords = t[:-1].split('(')[-1][:-1]\n",
    "        txt_dict[pname] = [pname,pcls,coords]\n",
    "\n",
    "    # open Image\n",
    "    img = cv2.imread(os.path.join(img_path,diamond_id+'.png'))\n",
    "    # plt.imshow(img)\n",
    "    # plt.show()\n",
    "\n",
    "    for patch in diamond_ids[diamond_id]:\n",
    "        pname = patch[0]\n",
    "        assert patch[1] == txt_dict[pname[:-4]][1]\n",
    "        coords = txt_dict[pname[:-4]][2]\n",
    "        coords = [int(c) for c in coords.split(', ')]\n",
    "\n",
    "        # if TP\n",
    "        if patch[1] == patch[4]:\n",
    "            color = (0,255,0)\n",
    "            # tt = pname[11:-4]+' '+str(patch[2])\n",
    "            tt = pname[12:-4]+' '+str(patch[3])\n",
    "        else:\n",
    "            color = (0,0,255)\n",
    "            tt = pname[12:-4]+' '+str(patch[3]) #+' '+str(patch[5])\n",
    "\n",
    "        cv2.rectangle(img, (coords[0], coords[1]), (coords[2], coords[3]), color, 2)\n",
    "        cv2.putText(img, tt, (coords[0], coords[1]-5), font, 0.3, color, 1, cv2.LINE_AA)\n",
    "\n",
    "    # plt.imshow(img)\n",
    "    # plt.show()\n",
    "    cv2.imwrite(os.path.join(vis_save_path,diamond_id+'.png'),img)\n",
    "    # print(f'{diamond_id} finish')\n"
   ]
  },
  {
   "cell_type": "code",
   "execution_count": 30,
   "metadata": {},
   "outputs": [],
   "source": [
    "# Move images to one single folder\n",
    "\n",
    "img_path = '/media/hdd/diamond/data/hdr_data_v2'\n",
    "save_path = '/media/hdd/diamond/data/imgs'\n",
    "os.makedirs(save_path,exist_ok=True)\n",
    "\n",
    "for r,d,f in os.walk(img_path):\n",
    "    for ff in f:\n",
    "        if 'png' in ff and 'mask' not in ff:\n",
    "            copy2(os.path.join(r,ff),os.path.join(save_path,ff[:11]+'.png'))\n",
    "\n"
   ]
  }
 ],
 "metadata": {
  "kernelspec": {
   "display_name": "Python 3.7.9 ('diamond_cls_torch')",
   "language": "python",
   "name": "python3"
  },
  "language_info": {
   "codemirror_mode": {
    "name": "ipython",
    "version": 3
   },
   "file_extension": ".py",
   "mimetype": "text/x-python",
   "name": "python",
   "nbconvert_exporter": "python",
   "pygments_lexer": "ipython3",
   "version": "3.7.9 (default, Aug 31 2020, 12:42:55) \n[GCC 7.3.0]"
  },
  "orig_nbformat": 4,
  "vscode": {
   "interpreter": {
    "hash": "a172698fdd73fd33c547e9dac7ee15bb7b8d4f0427e77d9bcb8cb519a8094ca3"
   }
  }
 },
 "nbformat": 4,
 "nbformat_minor": 2
}
