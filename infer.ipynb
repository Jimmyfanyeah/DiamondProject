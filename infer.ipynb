{
 "cells": [
  {
   "cell_type": "markdown",
   "metadata": {},
   "source": [
    "## Example\n",
    "\n",
    "In this simple example, we load an image, pre-process it, and classify it with a pretrained EfficientNet."
   ]
  },
  {
   "cell_type": "code",
   "execution_count": 3,
   "metadata": {},
   "outputs": [],
   "source": [
    "import os\n",
    "import sys\n",
    "module_path = os.path.abspath(os.path.join('/home/lingjia/Documents/diamond/EfficientNet'))\n",
    "if module_path not in sys.path:\n",
    "    sys.path.append(module_path)\n",
    "import json\n",
    "from PIL import Image\n",
    "import torch\n",
    "from torchvision import transforms\n",
    "from efficientnet_pytorch import EfficientNet"
   ]
  },
  {
   "cell_type": "code",
   "execution_count": 4,
   "metadata": {},
   "outputs": [
    {
     "name": "stdout",
     "output_type": "stream",
     "text": [
      "['Class1', 'Class2']\n"
     ]
    }
   ],
   "source": [
    "# Load class names\n",
    "labels_map = json.load(open('/home/lingjia/Documents/diamond_data/inclusion_classification/label_map.txt'))\n",
    "labels_map = [labels_map[str(i)] for i in range(2)]\n",
    "print(labels_map)\n",
    "# 'class1':['Feather','Needle','Nick','Pit','Crystal'],\n",
    "# 'class2':['Burn_mark','Internal_graining','Twinning_wisp','Cloud']"
   ]
  },
  {
   "cell_type": "code",
   "execution_count": 18,
   "metadata": {},
   "outputs": [
    {
     "data": {
      "text/plain": [
       "<All keys matched successfully>"
      ]
     },
     "execution_count": 18,
     "metadata": {},
     "output_type": "execute_result"
    }
   ],
   "source": [
    "model_name = 'efficientnet-b0'\n",
    "image_size = EfficientNet.get_image_size(model_name) # 224\n",
    "# model = EfficientNet.from_pretrained(model_name)\n",
    "model = EfficientNet.from_name(model_name,num_classes=2)\n",
    "\n",
    "checkpoint_path = '/home/lingjia/Documents/diamond_result/cls_multi-class_EfficientNet/Cloud_Crystal/model_best.pth'\n",
    "# checkpoint = torch.load(checkpoint_path)\n",
    "# model.load_state_dict(checkpoint['state_dict'])\n",
    "\n",
    "\n",
    "state_dict = torch.load(checkpoint_path)['state_dict']\n",
    "# create new OrderedDict that does not contain `module.`\n",
    "from collections import OrderedDict\n",
    "new_state_dict = OrderedDict()\n",
    "for k, v in state_dict.items():\n",
    "    name = k[7:] # remove `module\n",
    "    new_state_dict[name] = v\n",
    "# load params\n",
    "model.load_state_dict(new_state_dict)\n"
   ]
  },
  {
   "cell_type": "code",
   "execution_count": 19,
   "metadata": {},
   "outputs": [
    {
     "data": {
      "image/png": "[encoded data removed]",
      "text/plain": [
       "<PIL.PngImagePlugin.PngImageFile image mode=RGB size=65x61 at 0x7F9E1920B510>"
      ]
     },
     "execution_count": 19,
     "metadata": {},
     "output_type": "execute_result"
    }
   ],
   "source": [
    "# Open image\n",
    "img = Image.open('/home/lingjia/Documents/diamond_data/inclusion_classification/Patchs/test/class2/10349677844_168.png')\n",
    "# Class 1\n",
    "# 10349677844_133.png\n",
    "# 10349677844_142.png\n",
    "#\n",
    "# 10352013444_7.png\n",
    "# 10354541340_15.png\n",
    "\n",
    "# Class 2\n",
    "# 10349677844_168.png\n",
    "# 10349677844_172.png\n",
    "# \n",
    "# 10353242820_4.png\n",
    "\n",
    "img\n"
   ]
  },
  {
   "cell_type": "code",
   "execution_count": 20,
   "metadata": {},
   "outputs": [],
   "source": [
    "# Preprocess image\n",
    "tfms = transforms.Compose([transforms.Resize(image_size), transforms.CenterCrop(image_size), \n",
    "                           transforms.ToTensor(),\n",
    "                           transforms.Normalize([0.485, 0.456, 0.406], [0.229, 0.224, 0.225]),])\n",
    "img = tfms(img).unsqueeze(0)\n"
   ]
  },
  {
   "cell_type": "code",
   "execution_count": 21,
   "metadata": {},
   "outputs": [
    {
     "name": "stdout",
     "output_type": "stream",
     "text": [
      "tensor([[ 1.6295, -1.6090]])\n"
     ]
    }
   ],
   "source": [
    "# Classify with EfficientNet\n",
    "model.eval()\n",
    "with torch.no_grad():\n",
    "    logits = model(img)\n",
    "print(logits)"
   ]
  },
  {
   "cell_type": "code",
   "execution_count": 22,
   "metadata": {},
   "outputs": [
    {
     "name": "stdout",
     "output_type": "stream",
     "text": [
      "[0, 1]\n"
     ]
    }
   ],
   "source": [
    "preds = torch.topk(logits, k=2).indices.squeeze(0).tolist()\n",
    "print(preds)\n",
    "\n",
    "probs = torch.softmax(logits, dim=1)\n",
    "print(probs)\n"
   ]
  },
  {
   "cell_type": "code",
   "execution_count": 23,
   "metadata": {},
   "outputs": [
    {
     "name": "stdout",
     "output_type": "stream",
     "text": [
      "tensor([[0.9623, 0.0377]])\n"
     ]
    }
   ],
   "source": [
    "print(probs)"
   ]
  }
 ],
 "metadata": {
  "interpreter": {
   "hash": "4b3221099b51a87ae09fbc4ecb60137cf0b16591f8b83a8a9e693c7aa126471a"
  },
  "kernelspec": {
   "display_name": "Python 3.7.11 64-bit ('efficientnet': conda)",
   "name": "python3"
  },
  "language_info": {
   "codemirror_mode": {
    "name": "ipython",
    "version": 3
   },
   "file_extension": ".py",
   "mimetype": "text/x-python",
   "name": "python",
   "nbconvert_exporter": "python",
   "pygments_lexer": "ipython3",
   "version": "3.7.11"
  }
 },
 "nbformat": 4,
 "nbformat_minor": 2
}
