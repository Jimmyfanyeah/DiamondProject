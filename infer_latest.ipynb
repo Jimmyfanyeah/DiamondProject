{
 "cells": [
  {
   "cell_type": "code",
   "execution_count": 1,
   "metadata": {},
   "outputs": [],
   "source": [
    "import os\n",
    "import sys\n",
    "import csv\n",
    "from PIL import Image\n",
    "from collections import OrderedDict\n",
    "import torch\n",
    "from torchvision import transforms\n",
    "\n",
    "from efficientnet_pytorch import EfficientNet"
   ]
  },
  {
   "cell_type": "code",
   "execution_count": 3,
   "metadata": {},
   "outputs": [
    {
     "name": "stdout",
     "output_type": "stream",
     "text": [
      "Infer based on OAO model Cloud_Crystal\n"
     ]
    },
    {
     "data": {
      "text/plain": [
       "<All keys matched successfully>"
      ]
     },
     "execution_count": 3,
     "metadata": {},
     "output_type": "execute_result"
    }
   ],
   "source": [
    "class_list = {'Cloud': 1, 'Crystal': 2, 'Feather': 3, 'Twinning_wisp': 4}\n",
    "\n",
    "oao_groups = {'1':['Cloud','Crystal'], '2':['Cloud','Feather'], '3':['Cloud','Twinning_wisp'],  \n",
    "        '4':['Crystal','Feather'], '5':['Crystal','Twinning_wisp'],  '6':['Feather','Twinning_wisp']}\n",
    "\n",
    "# Choose model\n",
    "labels_map = oao_groups['1']\n",
    "print(f'Infer based on OAO model {labels_map[0]}_{labels_map[1]}')\n",
    "\n",
    "# Load checkpoint\n",
    "model_name = 'efficientnet-b0'\n",
    "image_size = EfficientNet.get_image_size(model_name) # 224\n",
    "model = EfficientNet.from_name(model_name, num_classes=2)\n",
    "\n",
    "model_path = '/media/hdd/diamond_result/cls_multi-class_EfficientNet/oao_strategy'\n",
    "checkpoint_path = os.path.join(model_path,f'{labels_map[0]}_{labels_map[1]}','model_best.pth')\n",
    "\n",
    "state_dict = torch.load(checkpoint_path)['state_dict']\n",
    "# create new OrderedDict that does not contain 'module.'\n",
    "new_state_dict = OrderedDict()\n",
    "for k, v in state_dict.items():\n",
    "    name = k[7:] # remove 'module.'\n",
    "    new_state_dict[name] = v\n",
    "# load params\n",
    "model.load_state_dict(new_state_dict)"
   ]
  },
  {
   "cell_type": "code",
   "execution_count": 4,
   "metadata": {},
   "outputs": [],
   "source": [
    "# Infer set\n",
    "testList = {}\n",
    "data_path = '/media/hdd/diamond_data/cls_multi-class_EfficientNet'\n",
    "for cls_name in class_list.keys():\n",
    "    # if not cls_name.lower() == 'pinpoint':\n",
    "    with open(os.path.join(data_path,cls_name,'test_ids.txt'), 'r') as file:\n",
    "        tmpList = file.readlines()\n",
    "    tmpList = [n.split('\\n')[0] for n in tmpList]\n",
    "    for tmp in tmpList:\n",
    "        testList[tmp] = [tmp,class_list[cls_name],cls_name]"
   ]
  },
  {
   "cell_type": "code",
   "execution_count": null,
   "metadata": {},
   "outputs": [],
   "source": [
    "infer_info = [['img_name','cls_name','cls_id',f'prob_{labels_map[0]}',f'prob_{labels_map[1]}']]\n",
    "num_idx = len(testList.keys())\n",
    "for idx, img_n in enumerate(testList.keys()):\n",
    "\n",
    "    # Open image\n",
    "    cls_name = testList[img_n][2]\n",
    "    img = Image.open(os.path.join(data_path,cls_name,img_n))\n",
    "\n",
    "    # Preprocess image\n",
    "    tfms = transforms.Compose([transforms.Resize((image_size,image_size)), \n",
    "                            transforms.CenterCrop(image_size), \n",
    "                            transforms.ToTensor(),\n",
    "                            transforms.Normalize([0.485, 0.456, 0.406], [0.229, 0.224, 0.225]),])\n",
    "    img = tfms(img).unsqueeze(0)\n",
    "\n",
    "    # Classify with EfficientNet\n",
    "    model.eval()\n",
    "    with torch.no_grad():\n",
    "        logits = model(img)\n",
    "        print(logits.size())"
   ]
  },
  {
   "cell_type": "code",
   "execution_count": 6,
   "metadata": {},
   "outputs": [],
   "source": [
    "    class_list = {'Cloud': 1, 'Crystal': 2, 'Feather': 3, 'Twinning_wisp': 4}\n",
    "\n",
    "    oao_groups = {'1':['Cloud','Crystal'], '2':['Cloud','Feather'], '3':['Cloud','Twinning_wisp'],  \n",
    "            '4':['Crystal','Feather'], '5':['Crystal','Twinning_wisp'],  '6':['Feather','Twinning_wisp']}"
   ]
  },
  {
   "cell_type": "code",
   "execution_count": 11,
   "metadata": {},
   "outputs": [
    {
     "ename": "TypeError",
     "evalue": "'dict_keys' object is not subscriptable",
     "output_type": "error",
     "traceback": [
      "\u001b[0;31m---------------------------------------------------------------------------\u001b[0m",
      "\u001b[0;31mTypeError\u001b[0m                                 Traceback (most recent call last)",
      "\u001b[0;32m/tmp/ipykernel_12946/2223767215.py\u001b[0m in \u001b[0;36m<module>\u001b[0;34m\u001b[0m\n\u001b[1;32m      1\u001b[0m \u001b[0ma\u001b[0m \u001b[0;34m=\u001b[0m \u001b[0mclass_list\u001b[0m\u001b[0;34m.\u001b[0m\u001b[0mkeys\u001b[0m\u001b[0;34m(\u001b[0m\u001b[0;34m)\u001b[0m\u001b[0;34m\u001b[0m\u001b[0;34m\u001b[0m\u001b[0m\n\u001b[0;32m----> 2\u001b[0;31m \u001b[0ma\u001b[0m\u001b[0;34m[\u001b[0m\u001b[0;36m0\u001b[0m\u001b[0;34m]\u001b[0m\u001b[0;34m\u001b[0m\u001b[0;34m\u001b[0m\u001b[0m\n\u001b[0m",
      "\u001b[0;31mTypeError\u001b[0m: 'dict_keys' object is not subscriptable"
     ]
    }
   ],
   "source": [
    "a = class_list.keys()\n",
    "a[0]"
   ]
  }
 ],
 "metadata": {
  "interpreter": {
   "hash": "01494790fcafc95143b3be82d2f955eefff96327b975d51a27d58964b2151a17"
  },
  "kernelspec": {
   "display_name": "Python 3.7.11 ('efficientnet')",
   "language": "python",
   "name": "python3"
  },
  "language_info": {
   "codemirror_mode": {
    "name": "ipython",
    "version": 3
   },
   "file_extension": ".py",
   "mimetype": "text/x-python",
   "name": "python",
   "nbconvert_exporter": "python",
   "pygments_lexer": "ipython3",
   "version": "3.7.11"
  },
  "orig_nbformat": 4
 },
 "nbformat": 4,
 "nbformat_minor": 2
}
