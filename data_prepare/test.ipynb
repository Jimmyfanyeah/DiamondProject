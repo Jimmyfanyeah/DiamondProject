{
 "cells": [
  {
   "cell_type": "code",
   "execution_count": 1,
   "metadata": {},
   "outputs": [],
   "source": [
    "import os\n",
    "import random\n",
    "from shutil import move,copy2\n",
    "from math import ceil\n"
   ]
  },
  {
   "cell_type": "code",
   "execution_count": 2,
   "metadata": {},
   "outputs": [],
   "source": [
    "base_path = '/media/hdd/diamond_data/cls_multi-class_EfficientNet'\n",
    "\n",
    "oao_groups = {'1':['Cloud','Crystal'], '2':['Cloud','Twinning_wisp'], '3':['Cloud','Feather'], \n",
    "        '4':['Crystal','Twinning_wisp'], '5':['Crystal','Feather'], '6':['Feather','Twinning_wisp']}\n",
    "phases = ['train','val','test']\n",
    "\n",
    "base_path = base_path\n",
    "save_path = '/media/hdd/diamond_data/cls_multi-class_EfficientNet_OAO_strategy_groups'\n"
   ]
  },
  {
   "cell_type": "code",
   "execution_count": null,
   "metadata": {},
   "outputs": [],
   "source": [
    "for gidx in oao_groups.keys():\n",
    "    oaog = oao_groups[gidx].sort()\n",
    "    for phase in phases:\n",
    "        for cls_name in oaog:\n",
    "            tmp_src_path = os.path.join(base_path,cls_name)\n",
    "            tmp_save_path = os.path.join(save_path,f'{oaog[0]}_{oaog[1]}',cls_name)\n",
    "            os.makedirs(tmp_save_path, exist_ok=True)\n",
    "\n",
    "            with open(os.path.join(tmp_src_path,f'{phase}_ids.txt'),'r') as file:\n",
    "                tmpList = file.readlines()\n",
    "            tmpList = [n.split('\\n')[0] for n in tmpList]\n",
    "\n",
    "            for file in tmpList:\n",
    "                copy2(os.path.join(tmp_src_path,file),os.path.join(tmp_save_path,file))"
   ]
  },
  {
   "cell_type": "code",
   "execution_count": 2,
   "metadata": {},
   "outputs": [],
   "source": [
    "class_list = {'Pinpoint': 1, 'Crystal': 2, 'Needle': 3, 'Feather': 4, 'Internal_graining': 5,\n",
    "                        'Cloud': 6, 'Twinning_wisp': 7, 'Nick': 8, 'Pit': 9, 'Burn_mark': 10}\n",
    "\n",
    "# Load class names\n",
    "oao_groups = {'1':['Cloud','Crystal'], '2':['Cloud','Twinning_wisp'], '3':['Cloud','Feather'], \n",
    "        '4':['Crystal','Twinning_wisp'], '5':['Crystal','Feather'], '6':['Feather','Twinning_wisp']}\n",
    "\n",
    "labels_map = oao_groups['1']\n",
    "\n"
   ]
  },
  {
   "cell_type": "code",
   "execution_count": 12,
   "metadata": {},
   "outputs": [],
   "source": [
    "testList = {}\n",
    "data_path = '/media/hdd/diamond_data/cls_multi-class_EfficientNet'\n",
    "for class_name in class_list.keys():\n",
    "    if not class_name.lower() == 'pinpoint':\n",
    "        with open(os.path.join(data_path,class_name,'test_ids.txt'), 'r') as file:\n",
    "            tmpList = file.readlines()\n",
    "        tmpList = [n.split('\\n')[0] for n in tmpList]\n",
    "        for tmp in tmpList:\n",
    "            testList[tmp] = [class_list[class_name],class_name]"
   ]
  },
  {
   "cell_type": "code",
   "execution_count": 3,
   "metadata": {},
   "outputs": [
    {
     "data": {
      "text/plain": [
       "dict_keys(['Pinpoint', 'Crystal', 'Needle', 'Feather', 'Internal_graining', 'Cloud', 'Twinning_wisp', 'Nick', 'Pit', 'Burn_mark'])"
      ]
     },
     "execution_count": 3,
     "metadata": {},
     "output_type": "execute_result"
    }
   ],
   "source": [
    "class_list.keys()"
   ]
  }
 ],
 "metadata": {
  "interpreter": {
   "hash": "01494790fcafc95143b3be82d2f955eefff96327b975d51a27d58964b2151a17"
  },
  "kernelspec": {
   "display_name": "Python 3.7.11 ('efficientnet')",
   "language": "python",
   "name": "python3"
  },
  "language_info": {
   "codemirror_mode": {
    "name": "ipython",
    "version": 3
   },
   "file_extension": ".py",
   "mimetype": "text/x-python",
   "name": "python",
   "nbconvert_exporter": "python",
   "pygments_lexer": "ipython3",
   "version": "3.7.11"
  },
  "orig_nbformat": 4
 },
 "nbformat": 4,
 "nbformat_minor": 2
}
